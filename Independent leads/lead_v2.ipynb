{
 "cells": [
  {
   "cell_type": "code",
   "execution_count": null,
   "metadata": {
    "colab": {
     "base_uri": "https://localhost:8080/"
    },
    "id": "s7gCtxRfToih",
    "outputId": "1abc406a-4ea6-4046-c341-18e519180e40"
   },
   "outputs": [
    {
     "name": "stdout",
     "output_type": "stream",
     "text": [
      "Drive already mounted at /content/drive; to attempt to forcibly remount, call drive.mount(\"/content/drive\", force_remount=True).\n"
     ]
    }
   ],
   "source": [
    "from google.colab import drive\n",
    "drive.mount('/content/drive')"
   ]
  },
  {
   "cell_type": "code",
   "execution_count": null,
   "metadata": {
    "id": "8zQx5M-Xz8C2"
   },
   "outputs": [],
   "source": [
    "! pip install tensorflow-gpu\n"
   ]
  },
  {
   "cell_type": "code",
   "execution_count": null,
   "metadata": {
    "id": "AkYV1q0bz9T-"
   },
   "outputs": [],
   "source": [
    "import tensorflow as tf\n",
    "\n",
    "# Check for GPU availability\n",
    "if tf.test.is_gpu_available():\n",
    "    print(\"GPU is available and will be used for training.\")\n",
    "else:\n",
    "    print(\"GPU is not available.\")\n"
   ]
  },
  {
   "cell_type": "code",
   "execution_count": null,
   "metadata": {
    "id": "Abb69yRv0APd"
   },
   "outputs": [],
   "source": [
    "# Explicitly specify GPU device\n",
    "gpus = tf.config.experimental.list_physical_devices('GPU')\n",
    "if gpus:\n",
    "    # Set memory growth to prevent GPU memory allocation from the beginning\n",
    "    for gpu in gpus:\n",
    "        tf.config.experimental.set_memory_growth(gpu, True)\n",
    "    # Set to use the first GPU (device 0)\n",
    "    tf.config.experimental.set_visible_devices(gpus[0], 'GPU')\n"
   ]
  },
  {
   "cell_type": "code",
   "execution_count": null,
   "metadata": {
    "id": "FDcfEXgUSySJ"
   },
   "outputs": [],
   "source": [
    "import os\n",
    "import numpy as np\n",
    "import pandas as pd\n",
    "import seaborn as sns\n",
    "import matplotlib.pyplot as plt\n",
    "import tensorflow as tf\n",
    "from sklearn.model_selection import train_test_split\n",
    "from sklearn.preprocessing import MinMaxScaler\n",
    "from tensorflow.keras.models import Sequential\n",
    "from tensorflow.keras.layers import Conv1D, MaxPooling1D, LSTM, Flatten, Dense, Dropout"
   ]
  },
  {
   "cell_type": "code",
   "execution_count": null,
   "metadata": {
    "id": "3jSSuybFTAi4"
   },
   "outputs": [],
   "source": [
    "# Function to load and preprocess data\n",
    "def load_and_preprocess_data(csv_file):\n",
    "    data = pd.read_csv(csv_file)\n",
    "    input_column = 'ii'\n",
    "    target_column = 'v2'\n",
    "\n",
    "    input_data = data[input_column].values\n",
    "    target_data = data[target_column].values\n",
    "\n",
    "    scaler = MinMaxScaler()\n",
    "    input_data = scaler.fit_transform(input_data.reshape(-1, 1))\n",
    "    target_data = scaler.fit_transform(target_data.reshape(-1, 1))\n",
    "\n",
    "    sequence_length = 1000\n",
    "\n",
    "    X, y = [], []\n",
    "    for i in range(len(input_data) - sequence_length):\n",
    "        X.append(input_data[i:i+sequence_length])\n",
    "        y.append(target_data[i+sequence_length])\n",
    "\n",
    "    X = np.array(X)\n",
    "    y = np.array(y)\n",
    "\n",
    "    X_train, X_test, y_train, y_test = train_test_split(X, y, test_size=0.2, random_state=42)\n",
    "\n",
    "    return X_train, X_test, y_train, y_test"
   ]
  },
  {
   "cell_type": "code",
   "execution_count": null,
   "metadata": {
    "id": "5dbkExtsTFQw"
   },
   "outputs": [],
   "source": [
    "# Initialize the model\n",
    "model = Sequential()\n",
    "model.add(Conv1D(128, 5, activation='relu', input_shape=(1000, 1)))\n",
    "model.add(MaxPooling1D(pool_size=2, strides=2))\n",
    "model.add(Conv1D(128, 5, activation='relu'))\n",
    "model.add(MaxPooling1D(pool_size=2, strides=2))\n",
    "model.add(Conv1D(128, 5, activation='relu'))\n",
    "model.add(MaxPooling1D(pool_size=2, strides=2))\n",
    "model.add(LSTM(64))\n",
    "model.add(Flatten())\n",
    "model.add(Dropout(0.2))\n",
    "model.add(Dense(1000, activation='relu'))\n",
    "model.add(Dense(1, activation='linear'))\n",
    "model.compile(optimizer='adam', loss='mean_squared_error')\n"
   ]
  },
  {
   "cell_type": "code",
   "execution_count": null,
   "metadata": {
    "id": "O41VDvSaTVi1"
   },
   "outputs": [],
   "source": [
    "folder_path = '/content/drive/MyDrive/ptb_csv/'"
   ]
  },
  {
   "cell_type": "code",
   "execution_count": null,
   "metadata": {
    "id": "k8l0dspES5Xk"
   },
   "outputs": [],
   "source": [
    "csv_files = [file for file in os.listdir(folder_path) if file.endswith('.csv')]\n"
   ]
  },
  {
   "cell_type": "code",
   "execution_count": null,
   "metadata": {
    "colab": {
     "background_save": true,
     "base_uri": "https://localhost:8080/"
    },
    "id": "AFwUPutZTX_u",
    "outputId": "095b9ecf-0020-4c54-f0d1-3693a0e70199"
   },
   "outputs": [
    {
     "name": "stdout",
     "output_type": "stream",
     "text": [
      "Epoch 1/200\n",
      "59/59 [==============================] - 472s 8s/step - loss: 0.0278\n",
      "Epoch 2/200\n",
      "59/59 [==============================] - 458s 8s/step - loss: 0.0187\n",
      "Epoch 3/200\n",
      "59/59 [==============================] - 451s 8s/step - loss: 0.0068\n",
      "Epoch 4/200\n",
      "59/59 [==============================] - 463s 8s/step - loss: 0.0045\n",
      "Epoch 5/200\n",
      "59/59 [==============================] - 464s 8s/step - loss: 0.0034\n",
      "Epoch 6/200\n",
      "59/59 [==============================] - 462s 8s/step - loss: 0.0027\n",
      "Epoch 7/200\n",
      "59/59 [==============================] - 454s 8s/step - loss: 0.0023\n",
      "Epoch 8/200\n",
      "59/59 [==============================] - 463s 8s/step - loss: 0.0021\n",
      "Epoch 9/200\n",
      "59/59 [==============================] - 454s 8s/step - loss: 0.0020\n",
      "Epoch 10/200\n",
      "59/59 [==============================] - 457s 8s/step - loss: 0.0020\n",
      "Epoch 11/200\n",
      "59/59 [==============================] - 456s 8s/step - loss: 0.0020\n",
      "Epoch 12/200\n",
      "59/59 [==============================] - 455s 8s/step - loss: 0.0018\n",
      "Epoch 13/200\n",
      "59/59 [==============================] - 454s 8s/step - loss: 0.0019\n",
      "Epoch 14/200\n",
      "59/59 [==============================] - 455s 8s/step - loss: 0.0018\n",
      "Epoch 15/200\n",
      "59/59 [==============================] - 456s 8s/step - loss: 0.0018\n",
      "Epoch 16/200\n",
      "59/59 [==============================] - 452s 8s/step - loss: 0.0017\n",
      "Epoch 17/200\n",
      "59/59 [==============================] - 456s 8s/step - loss: 0.0017\n",
      "Epoch 18/200\n",
      "59/59 [==============================] - 455s 8s/step - loss: 0.0017\n",
      "Epoch 19/200\n",
      "59/59 [==============================] - 452s 8s/step - loss: 0.0017\n",
      "Epoch 20/200\n",
      "59/59 [==============================] - 460s 8s/step - loss: 0.0016\n",
      "Epoch 21/200\n",
      "59/59 [==============================] - 456s 8s/step - loss: 0.0016\n",
      "Epoch 22/200\n",
      "59/59 [==============================] - 455s 8s/step - loss: 0.0016\n",
      "Epoch 23/200\n",
      "59/59 [==============================] - 455s 8s/step - loss: 0.0015\n",
      "Epoch 24/200\n",
      "59/59 [==============================] - 451s 8s/step - loss: 0.0015\n",
      "Epoch 25/200\n",
      "59/59 [==============================] - 455s 8s/step - loss: 0.0015\n",
      "Epoch 26/200\n",
      "59/59 [==============================] - 455s 8s/step - loss: 0.0015\n",
      "Epoch 27/200\n",
      "59/59 [==============================] - 451s 8s/step - loss: 0.0015\n",
      "Epoch 28/200\n",
      "59/59 [==============================] - 455s 8s/step - loss: 0.0015\n",
      "Epoch 29/200\n",
      "59/59 [==============================] - 455s 8s/step - loss: 0.0015\n",
      "Epoch 30/200\n",
      "59/59 [==============================] - 454s 8s/step - loss: 0.0015\n",
      "Epoch 31/200\n",
      "59/59 [==============================] - 457s 8s/step - loss: 0.0013\n",
      "Epoch 32/200\n",
      "59/59 [==============================] - 457s 8s/step - loss: 0.0013\n",
      "Epoch 33/200\n",
      "59/59 [==============================] - 457s 8s/step - loss: 0.0013\n",
      "Epoch 34/200\n",
      "59/59 [==============================] - 456s 8s/step - loss: 0.0026\n",
      "Epoch 35/200\n",
      "59/59 [==============================] - 458s 8s/step - loss: 0.0017\n",
      "Epoch 36/200\n",
      "59/59 [==============================] - 457s 8s/step - loss: 0.0015\n",
      "Epoch 37/200\n",
      "59/59 [==============================] - 454s 8s/step - loss: 0.0015\n",
      "Epoch 38/200\n",
      "59/59 [==============================] - 460s 8s/step - loss: 0.0015\n",
      "Epoch 39/200\n",
      "59/59 [==============================] - 460s 8s/step - loss: 0.0014\n",
      "Epoch 40/200\n",
      "59/59 [==============================] - 461s 8s/step - loss: 0.0013\n",
      "Epoch 41/200\n",
      "59/59 [==============================] - 455s 8s/step - loss: 0.0014\n",
      "Epoch 42/200\n",
      "59/59 [==============================] - 460s 8s/step - loss: 0.0014\n",
      "Epoch 43/200\n",
      "59/59 [==============================] - 458s 8s/step - loss: 0.0014\n",
      "Epoch 44/200\n",
      "59/59 [==============================] - 458s 8s/step - loss: 0.0013\n",
      "Epoch 45/200\n",
      "59/59 [==============================] - 457s 8s/step - loss: 0.0012\n",
      "Epoch 46/200\n",
      "59/59 [==============================] - 459s 8s/step - loss: 0.0012\n",
      "Epoch 47/200\n",
      "59/59 [==============================] - 458s 8s/step - loss: 0.0014\n",
      "Epoch 48/200\n",
      "59/59 [==============================] - 459s 8s/step - loss: 0.0012\n",
      "Epoch 49/200\n",
      "59/59 [==============================] - 457s 8s/step - loss: 0.0012\n",
      "Epoch 50/200\n",
      "59/59 [==============================] - 459s 8s/step - loss: 0.0012\n",
      "Epoch 51/200\n",
      "59/59 [==============================] - 459s 8s/step - loss: 0.0011\n",
      "Epoch 52/200\n",
      "59/59 [==============================] - 459s 8s/step - loss: 0.0012\n",
      "Epoch 53/200\n",
      "59/59 [==============================] - 458s 8s/step - loss: 0.0011\n",
      "Epoch 54/200\n",
      "59/59 [==============================] - 460s 8s/step - loss: 9.7448e-04\n",
      "Epoch 55/200\n",
      "59/59 [==============================] - 458s 8s/step - loss: 0.0010\n",
      "Epoch 56/200\n",
      "59/59 [==============================] - 460s 8s/step - loss: 9.8372e-04\n",
      "Epoch 57/200\n",
      "59/59 [==============================] - 456s 8s/step - loss: 9.7464e-04\n",
      "Epoch 58/200\n",
      "59/59 [==============================] - 460s 8s/step - loss: 7.8382e-04\n",
      "Epoch 59/200\n",
      "59/59 [==============================] - 460s 8s/step - loss: 9.9229e-04\n",
      "Epoch 60/200\n",
      "59/59 [==============================] - 459s 8s/step - loss: 0.0012\n",
      "Epoch 61/200\n",
      "59/59 [==============================] - 456s 8s/step - loss: 9.6463e-04\n",
      "Epoch 62/200\n",
      "59/59 [==============================] - 459s 8s/step - loss: 8.3617e-04\n",
      "Epoch 63/200\n",
      "59/59 [==============================] - 457s 8s/step - loss: 8.3367e-04\n",
      "Epoch 64/200\n",
      "59/59 [==============================] - 458s 8s/step - loss: 8.3432e-04\n",
      "Epoch 65/200\n",
      "59/59 [==============================] - 459s 8s/step - loss: 6.4901e-04\n",
      "Epoch 66/200\n",
      "59/59 [==============================] - 455s 8s/step - loss: 5.9264e-04\n",
      "Epoch 67/200\n",
      "59/59 [==============================] - 446s 8s/step - loss: 8.8770e-04\n",
      "Epoch 68/200\n",
      "59/59 [==============================] - 454s 8s/step - loss: 5.7302e-04\n",
      "Epoch 69/200\n",
      "59/59 [==============================] - 450s 8s/step - loss: 6.7018e-04\n",
      "Epoch 70/200\n",
      "59/59 [==============================] - 450s 8s/step - loss: 5.3231e-04\n",
      "Epoch 71/200\n",
      "59/59 [==============================] - 445s 8s/step - loss: 4.9274e-04\n",
      "Epoch 72/200\n",
      "59/59 [==============================] - 450s 8s/step - loss: 5.4196e-04\n",
      "Epoch 73/200\n",
      "59/59 [==============================] - 449s 8s/step - loss: 4.9945e-04\n",
      "Epoch 74/200\n",
      "59/59 [==============================] - 446s 8s/step - loss: 5.3203e-04\n",
      "Epoch 75/200\n",
      "55/59 [==========================>...] - ETA: 30s - loss: 4.7007e-04"
     ]
    }
   ],
   "source": [
    "for csv_file in csv_files:\n",
    "    X_train, X_test, y_train, y_test = load_and_preprocess_data(os.path.join(folder_path, csv_file))\n",
    "    model.fit(X_train, y_train, epochs=200, batch_size=512)"
   ]
  },
  {
   "cell_type": "code",
   "execution_count": null,
   "metadata": {
    "id": "bFJh05Sv3GOS"
   },
   "outputs": [],
   "source": [
    "model.save('lead_v2.h5')"
   ]
  }
 ],
 "metadata": {
  "accelerator": "TPU",
  "colab": {
   "provenance": []
  },
  "kernelspec": {
   "display_name": "Python 3 (ipykernel)",
   "language": "python",
   "name": "python3"
  },
  "language_info": {
   "codemirror_mode": {
    "name": "ipython",
    "version": 3
   },
   "file_extension": ".py",
   "mimetype": "text/x-python",
   "name": "python",
   "nbconvert_exporter": "python",
   "pygments_lexer": "ipython3",
   "version": "3.11.5"
  }
 },
 "nbformat": 4,
 "nbformat_minor": 1
}
