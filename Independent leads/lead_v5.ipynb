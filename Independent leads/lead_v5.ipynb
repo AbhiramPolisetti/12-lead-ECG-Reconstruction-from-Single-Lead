{
 "cells": [
  {
   "cell_type": "code",
   "execution_count": null,
   "metadata": {
    "id": "AkYV1q0bz9T-"
   },
   "outputs": [],
   "source": [
    "import tensorflow as tf\n",
    "\n",
    "# Check for GPU availability\n",
    "if tf.test.is_gpu_available():\n",
    "    print(\"GPU is available and will be used for training.\")\n",
    "else:\n",
    "    print(\"GPU is not available.\")\n"
   ]
  },
  {
   "cell_type": "code",
   "execution_count": null,
   "metadata": {
    "id": "Abb69yRv0APd"
   },
   "outputs": [],
   "source": [
    "# Explicitly specify GPU device\n",
    "gpus = tf.config.experimental.list_physical_devices('GPU')\n",
    "if gpus:\n",
    "    # Set memory growth to prevent GPU memory allocation from the beginning\n",
    "    for gpu in gpus:\n",
    "        tf.config.experimental.set_memory_growth(gpu, True)\n",
    "    # Set to use the first GPU (device 0)\n",
    "    tf.config.experimental.set_visible_devices(gpus[0], 'GPU')\n"
   ]
  },
  {
   "cell_type": "code",
   "execution_count": null,
   "metadata": {
    "id": "FDcfEXgUSySJ"
   },
   "outputs": [],
   "source": [
    "import os\n",
    "import numpy as np\n",
    "import pandas as pd\n",
    "import seaborn as sns\n",
    "import matplotlib.pyplot as plt\n",
    "import tensorflow as tf\n",
    "from sklearn.model_selection import train_test_split\n",
    "from sklearn.preprocessing import MinMaxScaler\n",
    "from tensorflow.keras.models import Sequential\n",
    "from tensorflow.keras.layers import Conv1D, MaxPooling1D, LSTM, Flatten, Dense, Dropout"
   ]
  },
  {
   "cell_type": "code",
   "execution_count": null,
   "metadata": {
    "id": "3jSSuybFTAi4"
   },
   "outputs": [],
   "source": [
    "# Function to load and preprocess data\n",
    "def load_and_preprocess_data(csv_file):\n",
    "    data = pd.read_csv(csv_file)\n",
    "    input_column = 'ii'\n",
    "    target_column = 'v5'\n",
    "\n",
    "    input_data = data[input_column].values\n",
    "    target_data = data[target_column].values\n",
    "\n",
    "    scaler = MinMaxScaler()\n",
    "    input_data = scaler.fit_transform(input_data.reshape(-1, 1))\n",
    "    target_data = scaler.fit_transform(target_data.reshape(-1, 1))\n",
    "\n",
    "    sequence_length = 1000\n",
    "\n",
    "    X, y = [], []\n",
    "    for i in range(len(input_data) - sequence_length):\n",
    "        X.append(input_data[i:i+sequence_length])\n",
    "        y.append(target_data[i+sequence_length])\n",
    "\n",
    "    X = np.array(X)\n",
    "    y = np.array(y)\n",
    "\n",
    "    X_train, X_test, y_train, y_test = train_test_split(X, y, test_size=0.2, random_state=42)\n",
    "\n",
    "    return X_train, X_test, y_train, y_test"
   ]
  },
  {
   "cell_type": "code",
   "execution_count": null,
   "metadata": {
    "id": "5dbkExtsTFQw"
   },
   "outputs": [],
   "source": [
    "# Initialize the model\n",
    "model = Sequential()\n",
    "model.add(Conv1D(128, 5, activation='relu', input_shape=(1000, 1)))\n",
    "model.add(MaxPooling1D(pool_size=2, strides=2))\n",
    "model.add(Conv1D(128, 5, activation='relu'))\n",
    "model.add(MaxPooling1D(pool_size=2, strides=2))\n",
    "model.add(Conv1D(128, 5, activation='relu'))\n",
    "model.add(MaxPooling1D(pool_size=2, strides=2))\n",
    "model.add(LSTM(64))\n",
    "model.add(Flatten())\n",
    "model.add(Dropout(0.2))\n",
    "model.add(Dense(1000, activation='relu'))\n",
    "model.add(Dense(1, activation='linear'))\n",
    "model.compile(optimizer='adam', loss='mean_squared_error')\n"
   ]
  },
  {
   "cell_type": "code",
   "execution_count": null,
   "metadata": {
    "id": "O41VDvSaTVi1"
   },
   "outputs": [],
   "source": [
    "folder_path = '/content/drive/MyDrive/ptb_csv/'"
   ]
  },
  {
   "cell_type": "code",
   "execution_count": null,
   "metadata": {
    "id": "k8l0dspES5Xk"
   },
   "outputs": [],
   "source": [
    "csv_files = [file for file in os.listdir(folder_path) if file.endswith('.csv')]\n"
   ]
  },
  {
   "cell_type": "code",
   "execution_count": null,
   "metadata": {
    "colab": {
     "background_save": true,
     "base_uri": "https://localhost:8080/"
    },
    "id": "AFwUPutZTX_u",
    "outputId": "095b9ecf-0020-4c54-f0d1-3693a0e70199"
   },
   "outputs": [],
   "source": [
    "for csv_file in csv_files:\n",
    "    X_train, X_test, y_train, y_test = load_and_preprocess_data(os.path.join(folder_path, csv_file))\n",
    "    model.fit(X_train, y_train, epochs=200, batch_size=512)"
   ]
  },
  {
   "cell_type": "code",
   "execution_count": null,
   "metadata": {
    "id": "bFJh05Sv3GOS"
   },
   "outputs": [],
   "source": [
    "model.save('lead_v5.h5')"
   ]
  }
 ],
 "metadata": {
  "accelerator": "TPU",
  "colab": {
   "provenance": []
  },
  "kernelspec": {
   "display_name": "Python 3 (ipykernel)",
   "language": "python",
   "name": "python3"
  },
  "language_info": {
   "codemirror_mode": {
    "name": "ipython",
    "version": 3
   },
   "file_extension": ".py",
   "mimetype": "text/x-python",
   "name": "python",
   "nbconvert_exporter": "python",
   "pygments_lexer": "ipython3",
   "version": "3.11.5"
  }
 },
 "nbformat": 4,
 "nbformat_minor": 1
}
